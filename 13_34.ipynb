{
 "cells": [
  {
   "cell_type": "markdown",
   "id": "7216a911-53a4-48fb-a1ab-4a6b7617b9f8",
   "metadata": {
    "tags": []
   },
   "source": [
    "## Testes com IEEE 34 Bus\n",
    "_Autor: Leonardo Jaime_"
   ]
  },
  {
   "cell_type": "markdown",
   "id": "09b21bda-be95-434b-b75b-1f246b9f2213",
   "metadata": {
    "tags": []
   },
   "source": [
    "### Imports"
   ]
  },
  {
   "cell_type": "code",
   "execution_count": 91,
   "id": "806a23c6-d73c-4914-b2f7-0aac5c93072d",
   "metadata": {},
   "outputs": [],
   "source": [
    "# !pip install py-dss-interface\n",
    "\n",
    "# instalação da biblioteca do OpenDSS\n",
    "\n",
    "# as outras bibliotecas estão inclusas no anaconda"
   ]
  },
  {
   "cell_type": "code",
   "execution_count": 92,
   "id": "8cd45ed3-d397-4f6d-bc47-574f1a2a1402",
   "metadata": {},
   "outputs": [],
   "source": [
    "# Importação das bibliotecas utilizadas\n",
    "import py_dss_interface\n",
    "import pandas as pd\n",
    "import matplotlib.pyplot as plt\n",
    "import numpy as np\n",
    "import math\n",
    "from bokeh.io import show, curdoc\n",
    "from bokeh.layouts import gridplot\n",
    "from bokeh.plotting import figure, output_file\n",
    "from bokeh.models import Range1d\n",
    "from bokeh.themes import built_in_themes"
   ]
  },
  {
   "cell_type": "markdown",
   "id": "adbe3b85-0945-4353-88cf-9faea64ab1e5",
   "metadata": {},
   "source": [
    "Repósitorio GitHub: <a href=\"https://github.com/leojms/OpenDSS\">Repositório</a> "
   ]
  },
  {
   "cell_type": "markdown",
   "id": "69a03a96-62c5-40a1-af4b-52312fdaa144",
   "metadata": {
    "tags": []
   },
   "source": [
    "### Funções"
   ]
  },
  {
   "cell_type": "markdown",
   "id": "36c1680f-31f2-4e6d-8d2c-35e428fe513b",
   "metadata": {
    "tags": []
   },
   "source": [
    "##### Variáveis"
   ]
  },
  {
   "cell_type": "code",
   "execution_count": 93,
   "id": "acce5ab6-25a7-4fa6-87eb-d8bade12eb82",
   "metadata": {
    "tags": []
   },
   "outputs": [],
   "source": [
    "# usuario utilizado (esse método só funciona comigo mesmo kkkk)\n",
    "# caso use em outro computador, apenas substituir o local e diretorio por endereços da sua maquina\n",
    "u_senai = \"leonardo.simoes\"\n",
    "u_note = \"leona\"\n",
    "# Diretório do arquivo do alimentador\n",
    "# cas-o seja utilizado um outro alimentador, ou em outra máquina, é necessário criar a variável com o novo diretório\n",
    "diretorio = fr'C:\\Users\\{u_senai}\\OneDrive - Sistema FIEB\\centro_comp\\opendss\\alimentadores'\n",
    "#############################\n",
    "# IMPORTANTE\n",
    "\n",
    "# O endereço local 2 refere-se a pasta anterior, onde serão exportados o gráfico de perdas em html e o arquivo excel\n",
    "# com os dados dos cenários\n",
    "# O local se refere a onde fica o arquivo do circuito e a pasta com os arquivos das curvas\n",
    "# Salvar a pasta com os arquivos do circuito que fica na pasta do opendss em outro lugar, de maneira a evitar erros de adm\n",
    "#############################"
   ]
  },
  {
   "cell_type": "code",
   "execution_count": 94,
   "id": "4987feb1",
   "metadata": {},
   "outputs": [
    {
     "name": "stdout",
     "output_type": "stream",
     "text": [
      "OpenDSS Started successfully! \n",
      "OpenDSS Version 9.4.0.1 (64-bit build); License Status: Open \n",
      "\n",
      "\n"
     ]
    }
   ],
   "source": [
    "# variaveis globais\n",
    "dss = py_dss_interface.DSSDLL()\n",
    "periodo = 24\n",
    "horario = 0\n",
    "linha_13 = \"line.650632\"\n",
    "linha_34 =\"line.L1\"\n",
    "bus_13 = 680\n",
    "bus_34 = 840\n",
    "cenarios_13 = [0, 75, 500, 2000, 3000, 5000]\n",
    "cenarios_34 = [0, 75, 500, 1200, 2200, 3500]\n",
    "kv_13 = 4.16\n",
    "kv_34 = 24.9\n",
    "local_13 = fr\"{diretorio}\\IEEE\\13Bus\"\n",
    "local_34 = fr\"{diretorio}\\IEEE\\34Bus\"\n",
    "nome_arquivo_34 = \"Run_IEEE34Mod1.dss\"\n",
    "arquivo_34 = fr\"{local_34}\\{nome_arquivo_34}\"\n",
    "nome_arquivo_13 = \"IEEE13Nodeckt.dss\"\n",
    "arquivo_13 = fr\"{local_13}\\{nome_arquivo_13}\"\n",
    "# caso seja executado em outra máquina,\n",
    "# baixar os arquivos das curvas via github e criar variáveis para o novo endereço do arquivo"
   ]
  },
  {
   "cell_type": "markdown",
   "id": "911d3de5-bdc3-4733-8b8c-ec99ce1559a3",
   "metadata": {
    "tags": []
   },
   "source": [
    "##### Elementos"
   ]
  },
  {
   "cell_type": "code",
   "execution_count": 95,
   "id": "ac32584b-5136-4ca6-ae5e-f66918c94f6c",
   "metadata": {},
   "outputs": [],
   "source": [
    "# Criação dos elementos\n",
    "\n",
    "def medidor(linha):\n",
    "    # criando o objeto medidor via opendss, na linha de saida do transformador\n",
    "    dss.text(f\"new Energymeter.medidor {linha} terminal=1\")\n",
    "    # adicionando um marcador em uma barra escolhida, apenas para demostrar como faz\n",
    "    # dss.text(\"AddBusMarker bus=680 color=red size=6 code=15\")\n",
    "\n",
    "\n",
    "def carga(local):\n",
    "    # criando a curva de carga, baseada na residencial\n",
    "    # e editando todas as cargas, para que elas tenham esse padrao de comportamento\n",
    "    dss.text(\"new loadshape.dia npts=24 interval=1\")\n",
    "    dss.text(fr\"~ mult=(file=[{local}\\curvas\\curva_residencial.txt])\")\n",
    "    dss.text(\"batchedit load..* daily=dia\")\n",
    "    # curva alternativa\n",
    "    # dss.text(r\"~ mult=(file=[C:\\Users\\leonardo.simoes\\OneDrive - Sistema FIEB\\centro_comp\\opendss\\alimentadores\\IEEE\\13Bus\\curvas\\curva_res_red.txt])\")\n",
    "\n",
    "\n",
    "def fv1(kw, bus, kv, local):\n",
    "    if kw == 0:\n",
    "        return\n",
    "    else:\n",
    "        # criação das curvas do sistema fotovoltaico\n",
    "        # curva do comportamento do fator de temperatura de acordo com o aumento da temperatura\n",
    "        dss.text(\"new XYcurve.ctemp npts=4 xarray=[0 25 75 100] yarray=[1.2 1.0 0.8 0.6]\")\n",
    "        # Curva de eficiência do inversor\n",
    "        dss.text(\"new XYcurve.ceficiencia npts=5 xarray=[0.1 0.2 0.4 1 2] yarray=[0.86 0.9 0.93 0.97 0.8]\")\n",
    "        # Curva de irradiancia diaria baseada na irradiancia solar local\n",
    "        dss.text(\"new loadshape.cirrad npts=24 interval=1\")\n",
    "        dss.text(fr\"~ mult=(file=[{local}\\curvas\\curva_fv.txt])\")\n",
    "        # curva da variação de temperatura da placa fotovoltaica diaria\n",
    "        dss.text(\"new tshape.t npts=24 interval=1\")\n",
    "        dss.text(fr\"~ temp=(file=[{local}\\curvas\\curva_temp.txt])\")\n",
    "        # criação do sistema fotovoltaico\n",
    "        # criação do objeto, associação das curvas criadas e criação dos monitores\n",
    "        dss.text(f\"new PVSystem.fv phases=3 bus1={bus} kv={kv} irrad=0.98 pmpp={kw} kva=6000 temperature=25 pf=1\")\n",
    "        dss.text(\"~ %cutin=0.1 %cutout=0.1 effcurve=ceficiencia P-tCurve=ctemp Daily=cirrad Tdaily=t\")\n",
    "        dss.text(f\"new monitor.fv_power element=PVSystem.fv terminal=1 mode=1 ppolar=no\")\n",
    "        dss.text(f\"new monitor.fv_variaveis element=PVSystem.fv terminal=1 mode=3\")"
   ]
  },
  {
   "cell_type": "markdown",
   "id": "78efd3c9-7d83-4f02-8c9c-cd68442bbf78",
   "metadata": {
    "tags": []
   },
   "source": [
    "##### Cenários"
   ]
  },
  {
   "cell_type": "code",
   "execution_count": 96,
   "id": "6d19b027-ee43-4ddc-acff-10d7d7c613df",
   "metadata": {},
   "outputs": [],
   "source": [
    "def cenario(arquivo, horas, kw, bus, kv, linha, local):\n",
    "    # cenario 3, utilização do sistema fotovoltaico associado ao v2g\n",
    "    # função resolve o fator de potência e exporta os dados de perdas e potência total diária\n",
    "    # limpar o buffer\n",
    "    dss.text(\"clear\")\n",
    "    # compilar o arquivo que contém o alimentador\n",
    "    dss.text(f\"compile [{arquivo}]\")\n",
    "    # chamar as funções com medidor, carga e os elementos de gd se tiverem\n",
    "    medidor(linha)\n",
    "    carga(local)\n",
    "    fv1(kw, bus, kv, local)\n",
    "    # configuração de simulação e resolução do fator de potência\n",
    "    dss.text(\"set mode = daily\")\n",
    "    dss.text(\"set stepsize = 1h\")\n",
    "    dss.text(\"set number = 1\")\n",
    "    dss.text(f\"set hour={horas - 1}\")\n",
    "    dss.solution_solve()\n",
    "    # extração dos valores de perdas, potência e calculo das perdas percentuais\n",
    "    dss.circuit_set_active_element(linha)\n",
    "    perdas = dss.circuit_losses()[0] / 10**3\n",
    "    pot = dss.cktelement_powers()[0]\n",
    "    return perdas, pot"
   ]
  },
  {
   "cell_type": "markdown",
   "id": "0fc94233-cd6b-440b-b7b8-348f18255a6a",
   "metadata": {
    "tags": []
   },
   "source": [
    "##### Exports"
   ]
  },
  {
   "cell_type": "code",
   "execution_count": 97,
   "id": "ffffcd0b-e751-4934-9ad1-52edc719b084",
   "metadata": {},
   "outputs": [],
   "source": [
    "def excel(dataframe, nome_arquivo, sep):\n",
    "    # função para exportar os dados dos cenarios para excel e gerar os dados para o dashboard\n",
    "    nome = f'{nome_arquivo}.xlsx'\n",
    "    dataframe.to_excel(fr'{diretorio}\\cen_{sep}_bus\\{nome}')\n",
    "    print(f\"O arquivo de dados {nome} foi salvo em excel com sucesso\")\n",
    "\n",
    "\n",
    "def monitores_dss(arquivo, sep, cenario_flag, cenarios, bus, kv, linha, local):\n",
    "    # função para exportar os monitores do/dos sistema(s) fotovoltaico(s) de cada cenario\n",
    "    # compilar arquivo\n",
    "    dss.text(f\"compile [{arquivo}]\")\n",
    "    # escolher cenario\n",
    "    cenario(arquivo, horario, kw = cenarios[cenario_flag], bus=bus, kv=kv, linha=linha, local=local)\n",
    "    # rodar simulação no regime determinado\n",
    "    dss.text(\"set mode = daily\")\n",
    "    dss.text(\"set stepsize = 1h\")\n",
    "    dss.text(f\"set number = {periodo}\")\n",
    "    # resolver o fator de potência\n",
    "    dss.solution_solve()\n",
    "    # condicional para plotar os monitores, de acordo com os monitores que forem desejados\n",
    "    if cenario_flag == 0:\n",
    "        print(\"Nao ha monitores a serem mostrados\")\n",
    "    elif cenario_flag>0 and cenario_flag<=5:\n",
    "        dss.monitors_write_name(\"fv_variaveis\")\n",
    "        var1 = dss.monitors_channel(1)\n",
    "        var2 = dss.monitors_channel(2)\n",
    "        var3 = dss.monitors_channel(3)\n",
    "        var4 = dss.monitors_channel(4)\n",
    "        output_file(fr'{diretorio}\\fv_{sep}_bus.html')\n",
    "        curdoc().theme = 'dark_minimal'\n",
    "        irrad = figure(x_axis_label=\"Horas (h)\", title=\"Irradiância (pu/m²)\")\n",
    "        irrad.x_range = Range1d(0, 24)\n",
    "        irrad.line(x=range(1, len(var1)+1), y=var1, color='lime')\n",
    "        pot = figure(x_axis_label=\"Horas (h)\", title=\"Potência (kW)\")\n",
    "        pot.x_range = Range1d(0, 24)\n",
    "        pot.line(x=range(1, len(var2)+1), y=var2, color='cyan')\n",
    "        temp = figure(x_axis_label=\"Horas (h)\", title=\"Fator de temperatura\")\n",
    "        temp.x_range = Range1d(0, 24)\n",
    "        temp.line(x=range(1, len(var3)+1), y=var3, color='yellow')\n",
    "        eff = figure(x_axis_label=\"Horas (h)\", title=\"Eficiência\")\n",
    "        eff.x_range = Range1d(0, 24)\n",
    "        eff.line(x=range(1, len(var4)+1), y=var4, color='hotpink')\n",
    "        grid_layout = gridplot([[irrad, pot], [temp, eff]])\n",
    "        show(grid_layout)\n",
    "    else:\n",
    "        print(\"O numero digitado para o cenario eh incorreto\")\n",
    "\n",
    "    \n",
    "def plots_horario(arquivo, horario, cenario_flag, cenarios, bus, kv, linha, local):\n",
    "    # função para plotar e exportar dados referentes a algum horario especifico de algum cenario especifico\n",
    "    # localização do diretorio de onde o opendss exporta as sobrecargas\n",
    "    # caso seja modificado, criar outra variável com o novo endereço, que sera o endereço de onde está o arquivo do alimentador.dss\n",
    "    # diretorio_senai = fr\"{local}\\IEEE13Nodeckt_EXP_OVERLOADS.CSV\"\n",
    "    # compilar o arquivo que contém o alimentador\n",
    "    dss.text(f\"compile [{arquivo}]\")\n",
    "    # condicional para escolher o cenario\n",
    "    cenario(arquivo, horario, kw = cenarios[cenario_flag], bus=bus, kv=kv, linha=linha, local=local)\n",
    "    # Plotar o circuito alimentador\n",
    "    dss.text(\"plot circuit Power max=2000 y y C1=$00FF0000\")\n",
    "    dss.text(\"Plot Profile Phases = All\")\n",
    "    # exportar em txt os elementos com sobrecarga\n",
    "    # dss.text(\"Export overloads\")\n",
    "    # abrir o txt exportado acima, de acordo com o diretorio\n",
    "    # dss.text(fr\"fileedit [{diretorio_senai}]\")\n",
    "    \n",
    "\n",
    "def plot_perdas(dados, label_base, label1, label2, label3, label4, label5, sep):\n",
    "    # função para plotar os gráficos dos dados de perdas e potencia extraídos dos cenários\n",
    "    # plots através da biblioteca bokeh, que apresenta gráficos interativos e exporta para html\n",
    "    output_file(fr'{diretorio}\\{sep}_bus.html')\n",
    "    curdoc().theme = 'dark_minimal'\n",
    "    perdas = figure(x_axis_label=\"Horas (h)\", title=\"Perdas (kW)\")\n",
    "    perdas.x_range = Range1d(0, 24)\n",
    "    perdas.line(x=dados[\"horas (h)\"], y=dados[\"perdas em kW Cenario base\"], color='white', legend_label=label_base)\n",
    "    perdas.line(x=dados[\"horas (h)\"], y=dados[\"perdas em kW Cenario 1\"], color='hotpink', legend_label=label1)\n",
    "    perdas.line(x=dados[\"horas (h)\"], y=dados[\"perdas em kW Cenario 2\"], color='deepskyblue', legend_label=label2)\n",
    "    perdas.line(x=dados[\"horas (h)\"], y=dados[\"perdas em kW Cenario 3\"], color='yellow', legend_label=label3)\n",
    "    perdas.line(x=dados[\"horas (h)\"], y=dados[\"perdas em kW Cenario 4\"], color='lawngreen', legend_label=label4)\n",
    "    perdas.line(x=dados[\"horas (h)\"], y=dados[\"perdas em kW Cenario 5\"], color='aquamarine', legend_label=label5)\n",
    "    potencia = figure(x_axis_label=\"Horas (h)\", title=\"Potencia Total (kW)\")\n",
    "    potencia.x_range = Range1d(0, 24)\n",
    "    potencia.line(x=dados[\"horas (h)\"], y=dados[\"potencia em kW Cenario base\"], color='white', legend_label=label_base)\n",
    "    potencia.line(x=dados[\"horas (h)\"], y=dados[\"potencia em kW Cenario 1\"], color='hotpink', legend_label=label1)\n",
    "    potencia.line(x=dados[\"horas (h)\"], y=dados[\"potencia em kW Cenario 2\"], color='deepskyblue', legend_label=label2)\n",
    "    potencia.line(x=dados[\"horas (h)\"], y=dados[\"potencia em kW Cenario 3\"], color='yellow', legend_label=label3)\n",
    "    potencia.line(x=dados[\"horas (h)\"], y=dados[\"potencia em kW Cenario 4\"], color='lawngreen', legend_label=label4)\n",
    "    potencia.line(x=dados[\"horas (h)\"], y=dados[\"potencia em kW Cenario 5\"], color='aquamarine', legend_label=label5)\n",
    "    grid_layout = gridplot([[perdas, potencia]])\n",
    "    show(grid_layout)\n",
    "    \n",
    "\n",
    "def dados_fv(arquivo, sep, cenario_flag, cenarios, bus, kv, linha, local):\n",
    "    dss.text(f\"compile [{arquivo}]\")\n",
    "    dia = range(0, 24)\n",
    "    d = dict()\n",
    "\n",
    "    for cenario_flag in range(1, 6):\n",
    "        cenario(arquivo, horario, kw = cenarios[cenario_flag], bus=bus, kv=kv, linha=linha, local=local)\n",
    "        dss.text(\"set mode = daily\")\n",
    "        dss.text(\"set stepsize = 1h\")\n",
    "        dss.text(f\"set number = {periodo}\")\n",
    "        dss.solution_solve()\n",
    "        dss.monitors_write_name(\"fv_variaveis\")\n",
    "        var1 = dss.monitors_channel(1)\n",
    "        var2 = dss.monitors_channel(2)\n",
    "        var3 = dss.monitors_channel(3)\n",
    "        var4 = dss.monitors_channel(4)\n",
    "        d[f\"Irradiância Cenário {cenario} (pu/m²)\"] = var1\n",
    "        d[f\"Potência Cenário {cenario} (kW)\"] = var2\n",
    "        d[f\"Fator de temperatura Cenário {cenario}\"] = var3\n",
    "        d[f\"Eficiência Cenário {cenario}\"] = var4\n",
    "        \n",
    "    d[f\"Irradiância Cenário Base (pu/m²)\"] = np.zeros(24)\n",
    "    d[f\"Potência Cenário Base (kW)\"] = np.zeros(24)\n",
    "    d[f\"Fator de temperatura Cenário Base\"] = np.zeros(24)\n",
    "    d[f\"Eficiência Cenário Base\"] = np.zeros(24)     \n",
    "    df = pd.DataFrame().from_dict(d)\n",
    "    nome = f'Variáveis FV.xlsx'\n",
    "    df.to_excel(fr'{diretorio}\\cen_{sep}_bus\\{nome}')\n",
    "    print(f\"O arquivo de dados {nome} foi salvo em excel com sucesso\")"
   ]
  },
  {
   "cell_type": "markdown",
   "id": "f55a171a-9ced-45c4-b3b4-a8d7cf6c64f5",
   "metadata": {
    "tags": []
   },
   "source": [
    "##### Processo"
   ]
  },
  {
   "cell_type": "code",
   "execution_count": 98,
   "id": "380006e9-560f-41d8-b697-20586afd1099",
   "metadata": {},
   "outputs": [],
   "source": [
    "def listagem(lista_geral, perdas, potencia):\n",
    "    # Organização dos dados de cada cenário em listas para cada variável\n",
    "    perdas.append(lista_geral[0])\n",
    "    potencia.append(lista_geral[1])\n",
    "\n",
    "\n",
    "def organiza(arquivo, sep, cenarios, bus, kv, linha, local):\n",
    "    # função que chama as funções de processo criadas acima\n",
    "    # criação do dia com as 24 horas\n",
    "    dia = range(0, 24)\n",
    "    dicio = dict()\n",
    "    dicio[\"horas (h)\"] = dia\n",
    "    \n",
    "    n_cenarios = len(cenarios)\n",
    "    \n",
    "    # Organização dos dados nas listas referentes a cada variável\n",
    "    for cenario_flag in range(0, n_cenarios):\n",
    "        # criação das listas\n",
    "        lista_perdas = list()\n",
    "        lista_pot = list()\n",
    "        for hora in dia:\n",
    "            listagem(cenario(arquivo, hora, kw=cenarios[cenario_flag], bus=bus, kv=kv, linha=linha, local=local), lista_perdas, lista_pot)\n",
    "        if cenario_flag == 0:\n",
    "            dicio[\"perdas em kW Cenario base\"] = lista_perdas\n",
    "            dicio[\"potencia em kW Cenario base\"] = lista_pot\n",
    "        else:\n",
    "            dicio[f\"perdas em kW Cenario {cenario_flag}\"] = lista_perdas\n",
    "            dicio[f\"potencia em kW Cenario {cenario_flag}\"] = lista_pot\n",
    "    \n",
    "    \n",
    "    dados = pd.DataFrame().from_dict(dicio)\n",
    "\n",
    "    # Plot dos cenários de perdas e potência\n",
    "    plot_perdas(dados, \"Cenario Base\", \"Cenario 1\", \"Cenario 2\", \"Cenario 3\", \"Cenario 4\", \"Cenario 5\", sep)\n",
    "\n",
    "    # exportação do banco de dados para excel\n",
    "    excel(dados, \"todos os cenarios\", sep)\n",
    "\n",
    "def processo(sep, hor, cen):\n",
    "    if sep == 13:\n",
    "        arquivo = arquivo_13\n",
    "        bus = bus_13\n",
    "        kv = kv_13\n",
    "        linha = linha_13\n",
    "        cenarios = cenarios_13\n",
    "        local = local_13\n",
    "    elif sep == 34:\n",
    "        arquivo = arquivo_34\n",
    "        bus = bus_34\n",
    "        kv = kv_34\n",
    "        linha = linha_34\n",
    "        cenarios = cenarios_34\n",
    "        local = local_34\n",
    "    else:\n",
    "        pass\n",
    "    # Função para chamar a função acima e para chamar as outras funções de plot criadas\n",
    "    organiza(arquivo, sep=sep, cenarios=cenarios, bus=bus, kv=kv, linha=linha, local=local)\n",
    "    plots_horario(arquivo, horario=hor, cenario_flag=cen, cenarios=cenarios, bus=bus, kv=kv, linha=linha, local=local)\n",
    "    monitores_dss(arquivo, sep=sep, cenario_flag=cen, cenarios=cenarios, bus=bus, kv=kv, linha=linha, local=local)\n",
    "    dados_fv(arquivo, sep=sep, cenario_flag=cen, cenarios=cenarios, bus=bus, kv=kv, linha=linha, local=local)"
   ]
  },
  {
   "cell_type": "markdown",
   "id": "266dc2bc-24a9-4acc-ade5-af9cf6279856",
   "metadata": {
    "tags": []
   },
   "source": [
    "### Calcular Fluxo"
   ]
  },
  {
   "cell_type": "code",
   "execution_count": 99,
   "id": "fea7d6d5-a13b-4ddd-9639-42e312e48946",
   "metadata": {},
   "outputs": [
    {
     "name": "stdout",
     "output_type": "stream",
     "text": [
      "O arquivo de dados todos os cenarios.xlsx foi salvo em excel com sucesso\n",
      "O arquivo de dados Variáveis FV.xlsx foi salvo em excel com sucesso\n",
      "O arquivo de dados todos os cenarios.xlsx foi salvo em excel com sucesso\n",
      "O arquivo de dados Variáveis FV.xlsx foi salvo em excel com sucesso\n"
     ]
    }
   ],
   "source": [
    "# função para executar os comandos de todas as funções criadas no código\n",
    "processo(sep=34, cen=3, hor=12)\n",
    "processo(sep=13, cen=3, hor=12)"
   ]
  }
 ],
 "metadata": {
  "kernelspec": {
   "display_name": "Python 3.9.12 ('base')",
   "language": "python",
   "name": "python3"
  },
  "language_info": {
   "codemirror_mode": {
    "name": "ipython",
    "version": 3
   },
   "file_extension": ".py",
   "mimetype": "text/x-python",
   "name": "python",
   "nbconvert_exporter": "python",
   "pygments_lexer": "ipython3",
   "version": "3.9.12"
  },
  "vscode": {
   "interpreter": {
    "hash": "586bb4617b3c570bf1592cc8c78b3f79e6a629a70ee70d3ae2cce415f3e518c9"
   }
  }
 },
 "nbformat": 4,
 "nbformat_minor": 5
}
